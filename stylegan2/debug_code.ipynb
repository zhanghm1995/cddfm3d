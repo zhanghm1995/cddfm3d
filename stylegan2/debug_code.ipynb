{
 "cells": [
  {
   "cell_type": "code",
   "execution_count": 2,
   "metadata": {},
   "outputs": [],
   "source": [
    "import numpy as np"
   ]
  },
  {
   "cell_type": "code",
   "execution_count": 3,
   "metadata": {},
   "outputs": [
    {
     "name": "stdout",
     "output_type": "stream",
     "text": [
      "(9088,)\n",
      "(9088,)\n",
      "17.75\n"
     ]
    }
   ],
   "source": [
    "style_vector_path = \"Latents/00000000.npy\"\n",
    "style_vector = np.load(style_vector_path)\n",
    "print(style_vector.shape)\n",
    "\n",
    "d = 9088 / 512\n",
    "print(d)"
   ]
  }
 ],
 "metadata": {
  "kernelspec": {
   "display_name": "Python 3.6.7 ('sg2ada')",
   "language": "python",
   "name": "python3"
  },
  "language_info": {
   "codemirror_mode": {
    "name": "ipython",
    "version": 3
   },
   "file_extension": ".py",
   "mimetype": "text/x-python",
   "name": "python",
   "nbconvert_exporter": "python",
   "pygments_lexer": "ipython3",
   "version": "3.6.7"
  },
  "orig_nbformat": 4,
  "vscode": {
   "interpreter": {
    "hash": "98c3a1c2bac739cf591dccb5db6799c4e8d0f7092a06a47b866f0cd4e72ce85e"
   }
  }
 },
 "nbformat": 4,
 "nbformat_minor": 2
}
